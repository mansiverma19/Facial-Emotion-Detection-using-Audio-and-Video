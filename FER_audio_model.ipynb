{
 "cells": [
  {
   "cell_type": "code",
   "execution_count": 1,
   "id": "d04df3c8",
   "metadata": {},
   "outputs": [],
   "source": [
    "import librosa \n",
    "import soundfile\n",
    "import os, glob, pickle\n",
    "import numpy as np\n",
    "import time\n",
    "from sklearn.model_selection import train_test_split\n",
    "from sklearn.neural_network import MLPClassifier\n",
    "from sklearn.metrics import accuracy_score"
   ]
  },
  {
   "cell_type": "code",
   "execution_count": 2,
   "id": "c5497788",
   "metadata": {},
   "outputs": [],
   "source": [
    "labels = ['Neutral','Disgust','Fear','Sadness', 'Anger', 'Happiness', 'Surprise']"
   ]
  },
  {
   "cell_type": "code",
   "execution_count": 3,
   "id": "7e6ba710",
   "metadata": {},
   "outputs": [],
   "source": [
    "root_path=os.path.join('FER','workspace')\n",
    "video_path=os.path.join(root_path,'video')\n",
    "audio_path=os.path.join('FER','audio')\n",
    "img_path=os.path.join(root_path,'image','collected_img')\n",
    "aug_img_path=os.path.join(root_path,'image','augmented_img')\n",
    "train_path=os.path.join(root_path,'train')\n",
    "train_aug_path=os.path.join(root_path,'train-aug')\n",
    "test_path=os.path.join(root_path,'test')\n",
    "validate_path=os.path.join(root_path,'validate')\n",
    "model_path=train=os.path.join(root_path,'model')"
   ]
  },
  {
   "cell_type": "code",
   "execution_count": 4,
   "id": "8fbc897b",
   "metadata": {},
   "outputs": [],
   "source": [
    "# !pip install soundfile\n",
    "# !pip install librosa\n",
    "# !pip install resampy"
   ]
  },
  {
   "cell_type": "markdown",
   "id": "3d5080b1",
   "metadata": {},
   "source": [
    "<pre>\n",
    "mfccs\n",
    "before transpose mfcc (40, 167)\n",
    "after transpose mfcc (167, 40)\n",
    "mfcc.shape (40,)\n",
    "chroma\n",
    "before transpose mfcc (12, 167)\n",
    "after transpose chroma (167, 12)\n",
    "chroma.shape (12,)\n",
    "mel\n",
    "before transpose mel (128, 167)\n",
    "after transpose mel (167, 128)\n",
    "mel.shape (128,)\n",
    "</pre>"
   ]
  },
  {
   "cell_type": "code",
   "execution_count": 9,
   "id": "f49a5a68",
   "metadata": {},
   "outputs": [],
   "source": [
    "def extract_feature(file_name, mfcc, chroma, mel):\n",
    "    X, sample_rate=librosa.load(os.path.join(file_name), res_type='kaiser_fast') \n",
    "    if chroma:\n",
    "        stft=np.abs(librosa.stft(X))\n",
    "    result=np.array([])\n",
    "    if mfcc:\n",
    "        mfccs=np.mean(librosa.feature.mfcc(y=X, sr=sample_rate, n_mfcc=40).T, axis=0) \n",
    "        result=np.hstack((result, mfccs))\n",
    "    if chroma:\n",
    "        chroma=np.mean(librosa.feature.chroma_stft(S=stft, sr=sample_rate).T,axis=0)\n",
    "        result=np.hstack((result, chroma))\n",
    "    if mel:\n",
    "        mel=np.mean(librosa.feature.melspectrogram(y=X, sr=sample_rate).T,axis=0)\n",
    "        result=np.hstack((result, mel))\n",
    "        \n",
    "#     onset_env = librosa.onset.onset_strength(y=X, sr=sample_rate)\n",
    "#     tempo, _ = librosa.beat.beat_track(onset_envelope=onset_env, sr=sample_rate)\n",
    "#     print(tempo.shape,tempo)\n",
    "    return result"
   ]
  },
  {
   "cell_type": "code",
   "execution_count": 10,
   "id": "675df130",
   "metadata": {},
   "outputs": [],
   "source": [
    "def load_data(test_size=0.2):\n",
    "    x,y=[], []\n",
    "    for label in os.listdir(audio_path):\n",
    "        for audio_file in os.listdir(os.path.join(audio_path,label)):\n",
    "            emotion=audio_file.split('-')[0]\n",
    "            if emotion not in labels:\n",
    "                continue\n",
    "            feature=extract_feature(os.path.join(audio_path,label,audio_file), mfcc=True, chroma=True, mel=True)\n",
    "#             print(len(feature),feature)\n",
    "            x.append(feature)\n",
    "            y.append(emotion)\n",
    "    return train_test_split(np.array(x), y, test_size=test_size, train_size= 0.75, random_state=9)\n"
   ]
  },
  {
   "cell_type": "markdown",
   "id": "891fc15c",
   "metadata": {},
   "source": [
    "# Loading the audio data into train test"
   ]
  },
  {
   "cell_type": "code",
   "execution_count": null,
   "id": "973df504",
   "metadata": {},
   "outputs": [],
   "source": [
    "# Split the Dataset\n",
    "x_train,x_test,y_train,y_test=load_data(test_size=0.15)"
   ]
  },
  {
   "cell_type": "code",
   "execution_count": 56,
   "id": "1456a015",
   "metadata": {},
   "outputs": [
    {
     "name": "stdout",
     "output_type": "stream",
     "text": [
      "((1069, 180), (214, 180))\n",
      "1069 214\n"
     ]
    },
    {
     "data": {
      "text/plain": [
       "(180,)"
      ]
     },
     "execution_count": 56,
     "metadata": {},
     "output_type": "execute_result"
    }
   ],
   "source": [
    "print((x_train.shape, x_test.shape))\n",
    "print(len(y_train),len(y_test))\n",
    "x_train[0].shape"
   ]
  },
  {
   "cell_type": "markdown",
   "id": "17027cbe",
   "metadata": {},
   "source": [
    "# Label Encoding"
   ]
  },
  {
   "cell_type": "code",
   "execution_count": 57,
   "id": "b2f3db8b",
   "metadata": {},
   "outputs": [
    {
     "name": "stdout",
     "output_type": "stream",
     "text": [
      "x_train shape: (1069, 180)\n",
      "y_train shape: (1069, 7)\n",
      "x_test shape: (214, 180)\n",
      "y_test shape: (214, 7)\n"
     ]
    }
   ],
   "source": [
    "from keras.utils import np_utils\n",
    "from sklearn.preprocessing import LabelEncoder\n",
    "\n",
    "lb = LabelEncoder()\n",
    "\n",
    "#Encode emotion labels into numbers\n",
    "# print(lb.fit_transform(y_train))\n",
    "y_train_lb =np_utils.to_categorical(lb.fit_transform(y_train))\n",
    "y_test_lb = np_utils.to_categorical(lb.fit_transform(y_test))\n",
    "\n",
    "# Check out the data\n",
    "print(f'x_train shape: {x_train.shape}')\n",
    "print(f'y_train shape: {y_train_lb.shape}')\n",
    "print(f'x_test shape: {x_test.shape}')\n",
    "print(f'y_test shape: {y_test_lb.shape}')"
   ]
  },
  {
   "cell_type": "code",
   "execution_count": 58,
   "id": "3b766428",
   "metadata": {},
   "outputs": [
    {
     "data": {
      "text/plain": [
       "array([[0., 0., 0., ..., 0., 0., 1.],\n",
       "       [1., 0., 0., ..., 0., 0., 0.],\n",
       "       [0., 0., 1., ..., 0., 0., 0.],\n",
       "       ...,\n",
       "       [0., 1., 0., ..., 0., 0., 0.],\n",
       "       [0., 0., 0., ..., 0., 0., 0.],\n",
       "       [0., 0., 0., ..., 0., 0., 1.]], dtype=float32)"
      ]
     },
     "execution_count": 58,
     "metadata": {},
     "output_type": "execute_result"
    }
   ],
   "source": [
    "y_train_lb"
   ]
  },
  {
   "cell_type": "markdown",
   "id": "dc95eeae",
   "metadata": {},
   "source": [
    "# Normalize the data"
   ]
  },
  {
   "cell_type": "code",
   "execution_count": 59,
   "id": "684c847b",
   "metadata": {},
   "outputs": [
    {
     "name": "stdout",
     "output_type": "stream",
     "text": [
      "(1069, 180) (214, 180)\n"
     ]
    }
   ],
   "source": [
    "from sklearn.preprocessing import StandardScaler\n",
    "\n",
    "scaler = StandardScaler()\n",
    "scaler.fit(x_train)\n",
    "x_train_scaled = scaler.transform(x_train)\n",
    "x_test_scaled = scaler.transform(x_test)\n",
    "print(x_train_scaled.shape,x_test_scaled.shape)"
   ]
  },
  {
   "cell_type": "code",
   "execution_count": 60,
   "id": "e29a5ef0",
   "metadata": {},
   "outputs": [
    {
     "name": "stdout",
     "output_type": "stream",
     "text": [
      "before scaling [-539.17907715   36.34679031  -19.77251244    3.99572039  -15.84661007\n",
      "   -7.81786203   -8.87937832   -7.97888851  -11.06785393   -2.29772043]\n",
      "after scaling [ 0.28008378 -0.86088113 -0.6998665  -0.83783779 -1.34214062 -0.80019866\n",
      "  0.17012676 -0.41963053 -0.16348596 -0.47866227]\n"
     ]
    }
   ],
   "source": [
    "print('before scaling',x_train[0][:10])\n",
    "print('after scaling',x_train_scaled[0][:10])"
   ]
  },
  {
   "cell_type": "markdown",
   "id": "083faa86",
   "metadata": {},
   "source": [
    "# MLP "
   ]
  },
  {
   "cell_type": "code",
   "execution_count": 182,
   "id": "cccd170c",
   "metadata": {},
   "outputs": [
    {
     "data": {
      "text/html": [
       "<style>#sk-container-id-23 {color: black;background-color: white;}#sk-container-id-23 pre{padding: 0;}#sk-container-id-23 div.sk-toggleable {background-color: white;}#sk-container-id-23 label.sk-toggleable__label {cursor: pointer;display: block;width: 100%;margin-bottom: 0;padding: 0.3em;box-sizing: border-box;text-align: center;}#sk-container-id-23 label.sk-toggleable__label-arrow:before {content: \"▸\";float: left;margin-right: 0.25em;color: #696969;}#sk-container-id-23 label.sk-toggleable__label-arrow:hover:before {color: black;}#sk-container-id-23 div.sk-estimator:hover label.sk-toggleable__label-arrow:before {color: black;}#sk-container-id-23 div.sk-toggleable__content {max-height: 0;max-width: 0;overflow: hidden;text-align: left;background-color: #f0f8ff;}#sk-container-id-23 div.sk-toggleable__content pre {margin: 0.2em;color: black;border-radius: 0.25em;background-color: #f0f8ff;}#sk-container-id-23 input.sk-toggleable__control:checked~div.sk-toggleable__content {max-height: 200px;max-width: 100%;overflow: auto;}#sk-container-id-23 input.sk-toggleable__control:checked~label.sk-toggleable__label-arrow:before {content: \"▾\";}#sk-container-id-23 div.sk-estimator input.sk-toggleable__control:checked~label.sk-toggleable__label {background-color: #d4ebff;}#sk-container-id-23 div.sk-label input.sk-toggleable__control:checked~label.sk-toggleable__label {background-color: #d4ebff;}#sk-container-id-23 input.sk-hidden--visually {border: 0;clip: rect(1px 1px 1px 1px);clip: rect(1px, 1px, 1px, 1px);height: 1px;margin: -1px;overflow: hidden;padding: 0;position: absolute;width: 1px;}#sk-container-id-23 div.sk-estimator {font-family: monospace;background-color: #f0f8ff;border: 1px dotted black;border-radius: 0.25em;box-sizing: border-box;margin-bottom: 0.5em;}#sk-container-id-23 div.sk-estimator:hover {background-color: #d4ebff;}#sk-container-id-23 div.sk-parallel-item::after {content: \"\";width: 100%;border-bottom: 1px solid gray;flex-grow: 1;}#sk-container-id-23 div.sk-label:hover label.sk-toggleable__label {background-color: #d4ebff;}#sk-container-id-23 div.sk-serial::before {content: \"\";position: absolute;border-left: 1px solid gray;box-sizing: border-box;top: 0;bottom: 0;left: 50%;z-index: 0;}#sk-container-id-23 div.sk-serial {display: flex;flex-direction: column;align-items: center;background-color: white;padding-right: 0.2em;padding-left: 0.2em;position: relative;}#sk-container-id-23 div.sk-item {position: relative;z-index: 1;}#sk-container-id-23 div.sk-parallel {display: flex;align-items: stretch;justify-content: center;background-color: white;position: relative;}#sk-container-id-23 div.sk-item::before, #sk-container-id-23 div.sk-parallel-item::before {content: \"\";position: absolute;border-left: 1px solid gray;box-sizing: border-box;top: 0;bottom: 0;left: 50%;z-index: -1;}#sk-container-id-23 div.sk-parallel-item {display: flex;flex-direction: column;z-index: 1;position: relative;background-color: white;}#sk-container-id-23 div.sk-parallel-item:first-child::after {align-self: flex-end;width: 50%;}#sk-container-id-23 div.sk-parallel-item:last-child::after {align-self: flex-start;width: 50%;}#sk-container-id-23 div.sk-parallel-item:only-child::after {width: 0;}#sk-container-id-23 div.sk-dashed-wrapped {border: 1px dashed gray;margin: 0 0.4em 0.5em 0.4em;box-sizing: border-box;padding-bottom: 0.4em;background-color: white;}#sk-container-id-23 div.sk-label label {font-family: monospace;font-weight: bold;display: inline-block;line-height: 1.2em;}#sk-container-id-23 div.sk-label-container {text-align: center;}#sk-container-id-23 div.sk-container {/* jupyter's `normalize.less` sets `[hidden] { display: none; }` but bootstrap.min.css set `[hidden] { display: none !important; }` so we also need the `!important` here to be able to override the default hidden behavior on the sphinx rendered scikit-learn.org. See: https://github.com/scikit-learn/scikit-learn/issues/21755 */display: inline-block !important;position: relative;}#sk-container-id-23 div.sk-text-repr-fallback {display: none;}</style><div id=\"sk-container-id-23\" class=\"sk-top-container\"><div class=\"sk-text-repr-fallback\"><pre>MLPClassifier(alpha=0.001, batch_size=4, hidden_layer_sizes=(800,),\n",
       "              learning_rate=&#x27;adaptive&#x27;, max_iter=500)</pre><b>In a Jupyter environment, please rerun this cell to show the HTML representation or trust the notebook. <br />On GitHub, the HTML representation is unable to render, please try loading this page with nbviewer.org.</b></div><div class=\"sk-container\" hidden><div class=\"sk-item\"><div class=\"sk-estimator sk-toggleable\"><input class=\"sk-toggleable__control sk-hidden--visually\" id=\"sk-estimator-id-23\" type=\"checkbox\" checked><label for=\"sk-estimator-id-23\" class=\"sk-toggleable__label sk-toggleable__label-arrow\">MLPClassifier</label><div class=\"sk-toggleable__content\"><pre>MLPClassifier(alpha=0.001, batch_size=4, hidden_layer_sizes=(800,),\n",
       "              learning_rate=&#x27;adaptive&#x27;, max_iter=500)</pre></div></div></div></div></div>"
      ],
      "text/plain": [
       "MLPClassifier(alpha=0.001, batch_size=4, hidden_layer_sizes=(800,),\n",
       "              learning_rate='adaptive', max_iter=500)"
      ]
     },
     "execution_count": 182,
     "metadata": {},
     "output_type": "execute_result"
    }
   ],
   "source": [
    "model=MLPClassifier (alpha=0.001, batch_size=4, epsilon=1e-08, hidden_layer_sizes=(800,), learning_rate='adaptive', max_iter=500)\n",
    "model.fit(x_train,y_train_lb)"
   ]
  },
  {
   "cell_type": "code",
   "execution_count": 183,
   "id": "909f10f4",
   "metadata": {},
   "outputs": [
    {
     "name": "stdout",
     "output_type": "stream",
     "text": [
      "Train Accuracy: 87.27%\n",
      "Test Accuracy: 34.60%\n"
     ]
    }
   ],
   "source": [
    "# Predict for the test set\n",
    "y_train_pred=model.predict(x_train)\n",
    "accuracy=accuracy_score (y_true=y_train_lb, y_pred=y_train_pred)\n",
    "print(\"Train Accuracy: {:.2f}%\".format(accuracy*100))\n",
    "\n",
    "y_test_pred=model.predict(x_test)\n",
    "accuracy=accuracy_score (y_true=y_test_lb, y_pred=y_test_pred)\n",
    "print(\"Test Accuracy: {:.2f}%\".format(accuracy*100))"
   ]
  },
  {
   "cell_type": "code",
   "execution_count": 185,
   "id": "a1690251",
   "metadata": {},
   "outputs": [
    {
     "name": "stdout",
     "output_type": "stream",
     "text": [
      "0  :  Anger\n",
      "1  :  Disgust\n",
      "2  :  Fear\n",
      "3  :  Happiness\n",
      "4  :  Neutral\n",
      "5  :  Sadness\n",
      "6  :  Surprise\n",
      "              precision    recall  f1-score   support\n",
      "\n",
      "           0       0.61      0.66      0.63        29\n",
      "           1       0.60      0.07      0.13        41\n",
      "           2       0.44      0.29      0.35        28\n",
      "           3       0.44      0.21      0.29        38\n",
      "           4       0.33      0.81      0.47        16\n",
      "           5       0.47      0.27      0.35        33\n",
      "           6       0.67      0.38      0.49        26\n",
      "\n",
      "   micro avg       0.48      0.33      0.39       211\n",
      "   macro avg       0.51      0.38      0.39       211\n",
      "weighted avg       0.52      0.33      0.36       211\n",
      " samples avg       0.30      0.33      0.31       211\n",
      "\n"
     ]
    },
    {
     "name": "stderr",
     "output_type": "stream",
     "text": [
      "C:\\Users\\mansi\\anaconda3\\envs\\tfod1\\lib\\site-packages\\sklearn\\metrics\\_classification.py:1344: UndefinedMetricWarning: Precision and F-score are ill-defined and being set to 0.0 in samples with no predicted labels. Use `zero_division` parameter to control this behavior.\n",
      "  _warn_prf(average, modifier, msg_start, len(result))\n"
     ]
    }
   ],
   "source": [
    "from sklearn.metrics import classification_report \n",
    "\n",
    "lst=lb.inverse_transform([0,1,2,3,4,5,6])\n",
    "for i in range(0,7):\n",
    "    print(i,\" : \",lst[i])\n",
    "print(classification_report (y_test_lb,y_pred))"
   ]
  },
  {
   "cell_type": "code",
   "execution_count": 186,
   "id": "eec01943",
   "metadata": {},
   "outputs": [
    {
     "data": {
      "text/plain": [
       "array([[0, 0, 0, ..., 0, 0, 0],\n",
       "       [0, 0, 0, ..., 0, 0, 0],\n",
       "       [1, 0, 0, ..., 0, 0, 0],\n",
       "       ...,\n",
       "       [0, 0, 0, ..., 0, 1, 0],\n",
       "       [0, 1, 0, ..., 0, 0, 0],\n",
       "       [0, 0, 0, ..., 0, 1, 0]])"
      ]
     },
     "execution_count": 186,
     "metadata": {},
     "output_type": "execute_result"
    }
   ],
   "source": [
    "from joblib import Parallel, delayed \n",
    "import joblib \n",
    "\n",
    "joblib.dump(model, 'MLP-1.pkl') \n",
    "  \n",
    "# Load the model from the file \n",
    "MLP_model = joblib.load('MLP-1.pkl')  \n",
    "MLP_model.predict(x_test)  "
   ]
  },
  {
   "cell_type": "markdown",
   "id": "88992d57",
   "metadata": {},
   "source": [
    "# CNN "
   ]
  },
  {
   "cell_type": "code",
   "execution_count": 61,
   "id": "989dc669",
   "metadata": {},
   "outputs": [],
   "source": [
    "from tensorflow.keras.models import Sequential\n",
    "from tensorflow.keras.layers import BatchNormalization\n",
    "from tensorflow.keras.layers import Conv1D, Activation, Dropout, MaxPooling1D, Flatten, Dense\n",
    "from tensorflow.keras.callbacks import EarlyStopping\n",
    "from keras.optimizers import Adam\n",
    "import h5py\n",
    "\n",
    "early_stopping = EarlyStopping(monitor='val_loss', patience=10, restore_best_weights=True)"
   ]
  },
  {
   "cell_type": "code",
   "execution_count": 62,
   "id": "638b18bb",
   "metadata": {},
   "outputs": [],
   "source": [
    "CNN_model = Sequential()\n",
    "\n",
    "#Build first layer\n",
    "CNN_model.add(Conv1D(16, 5,padding='same',input_shape=(180, 1), activation='relu'))\n",
    "CNN_model.add(BatchNormalization())\n",
    "\n",
    "#Build second layer\n",
    "CNN_model.add(Conv1D(32, 5,padding='same',activation='relu'))\n",
    "CNN_model.add(BatchNormalization())\n",
    "\n",
    "#Build third layer\n",
    "CNN_model.add(Conv1D(64, 5,padding='same',activation='relu'))\n",
    "CNN_model.add(BatchNormalization())\n",
    "\n",
    "#Add dropout\n",
    "CNN_model.add(Dropout(0.1))\n",
    "\n",
    "#Build forth layer\n",
    "CNN_model.add(Conv1D(128, 5,padding='same',activation='relu'))\n",
    "CNN_model.add(BatchNormalization())\n",
    "\n",
    "#Build forth layer\n",
    "CNN_model.add(Conv1D(256, 5,padding='same',activation='relu'))\n",
    "CNN_model.add(BatchNormalization())\n",
    "\n",
    "# CNN_model.add(MaxPooling1D(pool_size=5))\n",
    "\n",
    "#Flatten \n",
    "CNN_model.add(Flatten())\n",
    "\n",
    "CNN_model.add(Dense(128, activation ='relu'))\n",
    "CNN_model.add(Dropout(0.4))\n",
    "CNN_model.add(Dense(64, activation ='relu'))\n",
    "CNN_model.add(Dense(7, activation='softmax'))"
   ]
  },
  {
   "cell_type": "code",
   "execution_count": 63,
   "id": "2bef94fd",
   "metadata": {},
   "outputs": [
    {
     "name": "stdout",
     "output_type": "stream",
     "text": [
      "Model: \"sequential_1\"\n",
      "_________________________________________________________________\n",
      " Layer (type)                Output Shape              Param #   \n",
      "=================================================================\n",
      " conv1d_5 (Conv1D)           (None, 180, 16)           96        \n",
      "                                                                 \n",
      " batch_normalization_5 (Batc  (None, 180, 16)          64        \n",
      " hNormalization)                                                 \n",
      "                                                                 \n",
      " conv1d_6 (Conv1D)           (None, 180, 32)           2592      \n",
      "                                                                 \n",
      " batch_normalization_6 (Batc  (None, 180, 32)          128       \n",
      " hNormalization)                                                 \n",
      "                                                                 \n",
      " conv1d_7 (Conv1D)           (None, 180, 64)           10304     \n",
      "                                                                 \n",
      " batch_normalization_7 (Batc  (None, 180, 64)          256       \n",
      " hNormalization)                                                 \n",
      "                                                                 \n",
      " dropout_2 (Dropout)         (None, 180, 64)           0         \n",
      "                                                                 \n",
      " conv1d_8 (Conv1D)           (None, 180, 128)          41088     \n",
      "                                                                 \n",
      " batch_normalization_8 (Batc  (None, 180, 128)         512       \n",
      " hNormalization)                                                 \n",
      "                                                                 \n",
      " conv1d_9 (Conv1D)           (None, 180, 256)          164096    \n",
      "                                                                 \n",
      " batch_normalization_9 (Batc  (None, 180, 256)         1024      \n",
      " hNormalization)                                                 \n",
      "                                                                 \n",
      " flatten_1 (Flatten)         (None, 46080)             0         \n",
      "                                                                 \n",
      " dense_3 (Dense)             (None, 128)               5898368   \n",
      "                                                                 \n",
      " dropout_3 (Dropout)         (None, 128)               0         \n",
      "                                                                 \n",
      " dense_4 (Dense)             (None, 64)                8256      \n",
      "                                                                 \n",
      " dense_5 (Dense)             (None, 7)                 455       \n",
      "                                                                 \n",
      "=================================================================\n",
      "Total params: 6,127,239\n",
      "Trainable params: 6,126,247\n",
      "Non-trainable params: 992\n",
      "_________________________________________________________________\n"
     ]
    }
   ],
   "source": [
    "CNN_model.summary()"
   ]
  },
  {
   "cell_type": "code",
   "execution_count": 64,
   "id": "4a38bc6d",
   "metadata": {},
   "outputs": [
    {
     "name": "stderr",
     "output_type": "stream",
     "text": [
      "C:\\Users\\mansi\\anaconda3\\envs\\tfod1\\lib\\site-packages\\keras\\optimizers\\optimizer_v2\\adam.py:114: UserWarning: The `lr` argument is deprecated, use `learning_rate` instead.\n",
      "  super().__init__(name, **kwargs)\n"
     ]
    }
   ],
   "source": [
    "CNN_model.compile(loss = 'categorical_crossentropy',\n",
    "                  optimizer =Adam(lr=0.000001),\n",
    "                  metrics = ['accuracy'])"
   ]
  },
  {
   "cell_type": "code",
   "execution_count": 68,
   "id": "80a23ef2",
   "metadata": {},
   "outputs": [
    {
     "name": "stdout",
     "output_type": "stream",
     "text": [
      "Epoch 1/400\n",
      "34/34 [==============================] - 1s 38ms/step - loss: 0.4632 - accuracy: 0.8569 - val_loss: 1.6093 - val_accuracy: 0.4533\n",
      "Epoch 2/400\n",
      "34/34 [==============================] - 1s 28ms/step - loss: 0.4516 - accuracy: 0.8737 - val_loss: 1.5790 - val_accuracy: 0.4579\n",
      "Epoch 3/400\n",
      "34/34 [==============================] - 1s 28ms/step - loss: 0.4659 - accuracy: 0.8531 - val_loss: 1.5525 - val_accuracy: 0.4626\n",
      "Epoch 4/400\n",
      "34/34 [==============================] - 1s 27ms/step - loss: 0.4680 - accuracy: 0.8662 - val_loss: 1.5381 - val_accuracy: 0.4766\n",
      "Epoch 5/400\n",
      "34/34 [==============================] - 1s 27ms/step - loss: 0.4533 - accuracy: 0.8700 - val_loss: 1.5319 - val_accuracy: 0.4766\n",
      "Epoch 6/400\n",
      "34/34 [==============================] - 1s 26ms/step - loss: 0.4510 - accuracy: 0.8550 - val_loss: 1.5541 - val_accuracy: 0.4579\n",
      "Epoch 7/400\n",
      "34/34 [==============================] - 1s 27ms/step - loss: 0.4603 - accuracy: 0.8634 - val_loss: 1.5378 - val_accuracy: 0.4579\n",
      "Epoch 8/400\n",
      "34/34 [==============================] - 1s 26ms/step - loss: 0.4639 - accuracy: 0.8587 - val_loss: 1.5155 - val_accuracy: 0.4766\n",
      "Epoch 9/400\n",
      "34/34 [==============================] - 1s 27ms/step - loss: 0.4482 - accuracy: 0.8606 - val_loss: 1.5227 - val_accuracy: 0.4813\n",
      "Epoch 10/400\n",
      "34/34 [==============================] - 1s 27ms/step - loss: 0.4642 - accuracy: 0.8531 - val_loss: 1.5251 - val_accuracy: 0.4766\n",
      "Epoch 11/400\n",
      "34/34 [==============================] - 1s 27ms/step - loss: 0.4570 - accuracy: 0.8644 - val_loss: 1.5362 - val_accuracy: 0.4720\n",
      "Epoch 12/400\n",
      "34/34 [==============================] - 1s 25ms/step - loss: 0.4371 - accuracy: 0.8756 - val_loss: 1.5345 - val_accuracy: 0.4766\n",
      "Epoch 13/400\n",
      "34/34 [==============================] - 1s 24ms/step - loss: 0.4320 - accuracy: 0.8700 - val_loss: 1.5317 - val_accuracy: 0.4720\n",
      "Epoch 14/400\n",
      "34/34 [==============================] - 1s 24ms/step - loss: 0.4498 - accuracy: 0.8681 - val_loss: 1.5137 - val_accuracy: 0.4766\n",
      "Epoch 15/400\n",
      "34/34 [==============================] - 1s 24ms/step - loss: 0.4263 - accuracy: 0.8653 - val_loss: 1.5084 - val_accuracy: 0.4626\n",
      "Epoch 16/400\n",
      "34/34 [==============================] - 1s 25ms/step - loss: 0.4673 - accuracy: 0.8644 - val_loss: 1.5088 - val_accuracy: 0.4813\n",
      "Epoch 17/400\n",
      "34/34 [==============================] - 1s 27ms/step - loss: 0.4250 - accuracy: 0.8775 - val_loss: 1.5195 - val_accuracy: 0.4673\n",
      "Epoch 18/400\n",
      "34/34 [==============================] - 1s 26ms/step - loss: 0.4236 - accuracy: 0.8672 - val_loss: 1.5167 - val_accuracy: 0.4720\n",
      "Epoch 19/400\n",
      "34/34 [==============================] - 1s 24ms/step - loss: 0.4479 - accuracy: 0.8634 - val_loss: 1.5158 - val_accuracy: 0.4766\n",
      "Epoch 20/400\n",
      "34/34 [==============================] - 1s 24ms/step - loss: 0.4532 - accuracy: 0.8531 - val_loss: 1.5268 - val_accuracy: 0.4673\n",
      "Epoch 21/400\n",
      "34/34 [==============================] - 1s 26ms/step - loss: 0.4545 - accuracy: 0.8625 - val_loss: 1.5153 - val_accuracy: 0.4720\n",
      "Epoch 22/400\n",
      "34/34 [==============================] - 1s 24ms/step - loss: 0.4280 - accuracy: 0.8625 - val_loss: 1.5183 - val_accuracy: 0.4766\n",
      "Epoch 23/400\n",
      "34/34 [==============================] - 1s 25ms/step - loss: 0.4704 - accuracy: 0.8522 - val_loss: 1.5294 - val_accuracy: 0.4720\n",
      "Epoch 24/400\n",
      "34/34 [==============================] - 1s 26ms/step - loss: 0.4320 - accuracy: 0.8681 - val_loss: 1.5180 - val_accuracy: 0.4720\n",
      "Epoch 25/400\n",
      "34/34 [==============================] - 1s 25ms/step - loss: 0.4257 - accuracy: 0.8756 - val_loss: 1.5182 - val_accuracy: 0.4626\n",
      "Epoch 26/400\n",
      "34/34 [==============================] - 1s 25ms/step - loss: 0.4316 - accuracy: 0.8681 - val_loss: 1.5516 - val_accuracy: 0.4533\n",
      "Epoch 27/400\n",
      "34/34 [==============================] - 1s 24ms/step - loss: 0.4391 - accuracy: 0.8644 - val_loss: 1.5371 - val_accuracy: 0.4579\n",
      "Epoch 28/400\n",
      "34/34 [==============================] - 1s 24ms/step - loss: 0.4286 - accuracy: 0.8700 - val_loss: 1.5448 - val_accuracy: 0.4533\n",
      "Epoch 29/400\n",
      "34/34 [==============================] - 1s 24ms/step - loss: 0.4417 - accuracy: 0.8746 - val_loss: 1.5376 - val_accuracy: 0.4533\n",
      "Epoch 30/400\n",
      "34/34 [==============================] - 1s 25ms/step - loss: 0.4291 - accuracy: 0.8718 - val_loss: 1.5620 - val_accuracy: 0.4579\n",
      "Epoch 31/400\n",
      "34/34 [==============================] - 1s 24ms/step - loss: 0.4288 - accuracy: 0.8709 - val_loss: 1.5335 - val_accuracy: 0.4673\n",
      "Epoch 32/400\n",
      "34/34 [==============================] - 1s 24ms/step - loss: 0.4283 - accuracy: 0.8662 - val_loss: 1.5401 - val_accuracy: 0.4626\n",
      "Epoch 33/400\n",
      "34/34 [==============================] - 1s 24ms/step - loss: 0.4251 - accuracy: 0.8625 - val_loss: 1.5644 - val_accuracy: 0.4533\n",
      "Epoch 34/400\n",
      "34/34 [==============================] - 1s 24ms/step - loss: 0.4326 - accuracy: 0.8709 - val_loss: 1.5541 - val_accuracy: 0.4673\n",
      "Epoch 35/400\n",
      "34/34 [==============================] - 1s 24ms/step - loss: 0.4301 - accuracy: 0.8578 - val_loss: 1.5705 - val_accuracy: 0.4579\n",
      "Epoch 36/400\n",
      "34/34 [==============================] - 1s 24ms/step - loss: 0.4319 - accuracy: 0.8587 - val_loss: 1.5619 - val_accuracy: 0.4579\n",
      "Epoch 37/400\n",
      "34/34 [==============================] - 1s 24ms/step - loss: 0.4122 - accuracy: 0.8793 - val_loss: 1.5775 - val_accuracy: 0.4579\n",
      "Epoch 38/400\n",
      "34/34 [==============================] - 1s 24ms/step - loss: 0.4221 - accuracy: 0.8653 - val_loss: 1.5692 - val_accuracy: 0.4579\n",
      "Epoch 39/400\n",
      "34/34 [==============================] - 1s 24ms/step - loss: 0.4432 - accuracy: 0.8550 - val_loss: 1.5563 - val_accuracy: 0.4579\n",
      "Epoch 40/400\n",
      "34/34 [==============================] - 1s 24ms/step - loss: 0.4183 - accuracy: 0.8765 - val_loss: 1.5369 - val_accuracy: 0.4579\n",
      "Epoch 41/400\n",
      "34/34 [==============================] - 1s 24ms/step - loss: 0.4411 - accuracy: 0.8681 - val_loss: 1.5413 - val_accuracy: 0.4533\n",
      "Epoch 42/400\n",
      "34/34 [==============================] - 1s 24ms/step - loss: 0.4112 - accuracy: 0.8765 - val_loss: 1.5584 - val_accuracy: 0.4579\n",
      "Epoch 43/400\n",
      "34/34 [==============================] - 1s 24ms/step - loss: 0.4239 - accuracy: 0.8653 - val_loss: 1.5427 - val_accuracy: 0.4579\n",
      "Epoch 44/400\n",
      "34/34 [==============================] - 1s 24ms/step - loss: 0.4301 - accuracy: 0.8672 - val_loss: 1.5373 - val_accuracy: 0.4626\n",
      "Epoch 45/400\n",
      "34/34 [==============================] - 1s 24ms/step - loss: 0.4242 - accuracy: 0.8653 - val_loss: 1.5277 - val_accuracy: 0.4626\n",
      "Epoch 46/400\n",
      "34/34 [==============================] - 1s 24ms/step - loss: 0.4066 - accuracy: 0.8821 - val_loss: 1.5188 - val_accuracy: 0.4626\n",
      "Epoch 47/400\n",
      "34/34 [==============================] - 1s 24ms/step - loss: 0.4168 - accuracy: 0.8737 - val_loss: 1.5103 - val_accuracy: 0.4720\n",
      "Epoch 48/400\n",
      "34/34 [==============================] - 1s 24ms/step - loss: 0.3950 - accuracy: 0.8821 - val_loss: 1.5192 - val_accuracy: 0.4813\n",
      "Epoch 49/400\n",
      "34/34 [==============================] - 1s 23ms/step - loss: 0.4222 - accuracy: 0.8756 - val_loss: 1.5327 - val_accuracy: 0.4813\n",
      "Epoch 50/400\n",
      "34/34 [==============================] - 1s 24ms/step - loss: 0.4227 - accuracy: 0.8587 - val_loss: 1.5092 - val_accuracy: 0.4766\n",
      "Epoch 51/400\n",
      "34/34 [==============================] - 1s 24ms/step - loss: 0.4064 - accuracy: 0.8746 - val_loss: 1.5250 - val_accuracy: 0.4720\n",
      "Epoch 52/400\n",
      "34/34 [==============================] - 1s 24ms/step - loss: 0.4095 - accuracy: 0.8728 - val_loss: 1.5482 - val_accuracy: 0.4533\n",
      "Epoch 53/400\n",
      "34/34 [==============================] - 1s 24ms/step - loss: 0.4117 - accuracy: 0.8803 - val_loss: 1.5669 - val_accuracy: 0.4579\n",
      "Epoch 54/400\n",
      "34/34 [==============================] - 1s 24ms/step - loss: 0.4295 - accuracy: 0.8756 - val_loss: 1.5546 - val_accuracy: 0.4579\n",
      "Epoch 55/400\n",
      "34/34 [==============================] - 1s 24ms/step - loss: 0.4168 - accuracy: 0.8803 - val_loss: 1.5580 - val_accuracy: 0.4720\n",
      "Epoch 56/400\n",
      "34/34 [==============================] - 1s 24ms/step - loss: 0.4422 - accuracy: 0.8672 - val_loss: 1.5470 - val_accuracy: 0.4626\n",
      "Epoch 57/400\n",
      "34/34 [==============================] - 1s 25ms/step - loss: 0.4228 - accuracy: 0.8793 - val_loss: 1.5383 - val_accuracy: 0.4579\n",
      "Epoch 58/400\n",
      "34/34 [==============================] - 1s 24ms/step - loss: 0.4210 - accuracy: 0.8690 - val_loss: 1.5415 - val_accuracy: 0.4579\n",
      "Epoch 59/400\n",
      "34/34 [==============================] - 1s 24ms/step - loss: 0.4055 - accuracy: 0.8700 - val_loss: 1.5391 - val_accuracy: 0.4626\n",
      "Epoch 60/400\n",
      "34/34 [==============================] - 1s 24ms/step - loss: 0.3917 - accuracy: 0.8868 - val_loss: 1.5603 - val_accuracy: 0.4579\n",
      "Epoch 61/400\n",
      "34/34 [==============================] - 1s 24ms/step - loss: 0.4011 - accuracy: 0.8812 - val_loss: 1.5630 - val_accuracy: 0.4579\n",
      "Epoch 62/400\n",
      "34/34 [==============================] - 1s 24ms/step - loss: 0.4054 - accuracy: 0.8812 - val_loss: 1.5700 - val_accuracy: 0.4626\n",
      "Epoch 63/400\n",
      "34/34 [==============================] - 1s 24ms/step - loss: 0.4454 - accuracy: 0.8672 - val_loss: 1.5932 - val_accuracy: 0.4439\n",
      "Epoch 64/400\n",
      "34/34 [==============================] - 1s 24ms/step - loss: 0.4139 - accuracy: 0.8606 - val_loss: 1.5885 - val_accuracy: 0.4579\n",
      "Epoch 65/400\n",
      "34/34 [==============================] - 1s 24ms/step - loss: 0.4043 - accuracy: 0.8849 - val_loss: 1.5658 - val_accuracy: 0.4579\n",
      "Epoch 66/400\n",
      "34/34 [==============================] - 1s 24ms/step - loss: 0.4400 - accuracy: 0.8644 - val_loss: 1.5448 - val_accuracy: 0.4579\n",
      "Epoch 67/400\n",
      "34/34 [==============================] - 1s 24ms/step - loss: 0.4239 - accuracy: 0.8690 - val_loss: 1.5697 - val_accuracy: 0.4579\n",
      "Epoch 68/400\n",
      "34/34 [==============================] - 1s 24ms/step - loss: 0.4043 - accuracy: 0.8849 - val_loss: 1.5641 - val_accuracy: 0.4533\n",
      "Epoch 69/400\n",
      "34/34 [==============================] - 1s 25ms/step - loss: 0.3751 - accuracy: 0.8952 - val_loss: 1.5465 - val_accuracy: 0.4626\n",
      "Epoch 70/400\n",
      "34/34 [==============================] - 1s 24ms/step - loss: 0.4029 - accuracy: 0.8737 - val_loss: 1.5275 - val_accuracy: 0.4673\n",
      "Epoch 71/400\n",
      "34/34 [==============================] - 1s 24ms/step - loss: 0.3805 - accuracy: 0.8793 - val_loss: 1.5296 - val_accuracy: 0.4860\n",
      "Epoch 72/400\n",
      "34/34 [==============================] - 1s 24ms/step - loss: 0.3993 - accuracy: 0.8812 - val_loss: 1.5500 - val_accuracy: 0.4626\n",
      "Epoch 73/400\n",
      "34/34 [==============================] - 1s 24ms/step - loss: 0.3987 - accuracy: 0.8803 - val_loss: 1.5459 - val_accuracy: 0.4579\n",
      "Epoch 74/400\n",
      "34/34 [==============================] - 1s 24ms/step - loss: 0.3905 - accuracy: 0.8709 - val_loss: 1.5745 - val_accuracy: 0.4533\n",
      "Epoch 75/400\n",
      "34/34 [==============================] - 1s 24ms/step - loss: 0.3802 - accuracy: 0.8831 - val_loss: 1.5864 - val_accuracy: 0.4579\n",
      "Epoch 76/400\n",
      "34/34 [==============================] - 1s 24ms/step - loss: 0.3868 - accuracy: 0.8840 - val_loss: 1.5616 - val_accuracy: 0.4626\n",
      "Epoch 77/400\n",
      "34/34 [==============================] - 1s 24ms/step - loss: 0.3836 - accuracy: 0.8859 - val_loss: 1.5429 - val_accuracy: 0.4673\n",
      "Epoch 78/400\n",
      "34/34 [==============================] - 1s 25ms/step - loss: 0.3793 - accuracy: 0.8887 - val_loss: 1.5616 - val_accuracy: 0.4673\n",
      "Epoch 79/400\n",
      "34/34 [==============================] - 1s 24ms/step - loss: 0.3970 - accuracy: 0.8718 - val_loss: 1.5741 - val_accuracy: 0.4626\n",
      "Epoch 80/400\n",
      "34/34 [==============================] - 1s 24ms/step - loss: 0.4033 - accuracy: 0.8681 - val_loss: 1.6039 - val_accuracy: 0.4486\n",
      "Epoch 81/400\n",
      "34/34 [==============================] - 1s 26ms/step - loss: 0.3985 - accuracy: 0.8849 - val_loss: 1.5800 - val_accuracy: 0.4579\n",
      "Epoch 82/400\n",
      "34/34 [==============================] - 1s 24ms/step - loss: 0.4058 - accuracy: 0.8746 - val_loss: 1.5599 - val_accuracy: 0.4766\n",
      "Epoch 83/400\n",
      "34/34 [==============================] - 1s 25ms/step - loss: 0.3789 - accuracy: 0.8980 - val_loss: 1.5790 - val_accuracy: 0.4533\n",
      "Epoch 84/400\n",
      "34/34 [==============================] - 1s 24ms/step - loss: 0.3732 - accuracy: 0.8859 - val_loss: 1.5687 - val_accuracy: 0.4673\n",
      "Epoch 85/400\n",
      "34/34 [==============================] - 1s 24ms/step - loss: 0.3957 - accuracy: 0.8812 - val_loss: 1.5593 - val_accuracy: 0.4720\n",
      "Epoch 86/400\n",
      "34/34 [==============================] - 1s 25ms/step - loss: 0.3713 - accuracy: 0.8943 - val_loss: 1.5883 - val_accuracy: 0.4626\n",
      "Epoch 87/400\n",
      "34/34 [==============================] - 1s 25ms/step - loss: 0.4122 - accuracy: 0.8690 - val_loss: 1.5773 - val_accuracy: 0.4673\n",
      "Epoch 88/400\n",
      "34/34 [==============================] - 1s 25ms/step - loss: 0.3775 - accuracy: 0.8906 - val_loss: 1.5594 - val_accuracy: 0.4720\n",
      "Epoch 89/400\n",
      "34/34 [==============================] - 1s 24ms/step - loss: 0.3962 - accuracy: 0.8840 - val_loss: 1.5739 - val_accuracy: 0.4766\n",
      "Epoch 90/400\n",
      "34/34 [==============================] - 1s 24ms/step - loss: 0.3823 - accuracy: 0.8746 - val_loss: 1.5616 - val_accuracy: 0.4720\n",
      "Epoch 91/400\n",
      "34/34 [==============================] - 1s 24ms/step - loss: 0.3778 - accuracy: 0.8915 - val_loss: 1.5758 - val_accuracy: 0.4720\n",
      "Epoch 92/400\n",
      "34/34 [==============================] - 1s 25ms/step - loss: 0.4022 - accuracy: 0.8765 - val_loss: 1.5800 - val_accuracy: 0.4626\n",
      "Epoch 93/400\n",
      "34/34 [==============================] - 1s 24ms/step - loss: 0.3653 - accuracy: 0.8840 - val_loss: 1.6068 - val_accuracy: 0.4579\n",
      "Epoch 94/400\n",
      "34/34 [==============================] - 1s 24ms/step - loss: 0.3671 - accuracy: 0.8831 - val_loss: 1.5842 - val_accuracy: 0.4626\n",
      "Epoch 95/400\n",
      "34/34 [==============================] - 1s 25ms/step - loss: 0.3896 - accuracy: 0.8793 - val_loss: 1.5868 - val_accuracy: 0.4579\n",
      "Epoch 96/400\n",
      "34/34 [==============================] - 1s 25ms/step - loss: 0.3672 - accuracy: 0.8915 - val_loss: 1.5867 - val_accuracy: 0.4533\n",
      "Epoch 97/400\n",
      "34/34 [==============================] - 1s 25ms/step - loss: 0.3748 - accuracy: 0.8915 - val_loss: 1.5826 - val_accuracy: 0.4626\n",
      "Epoch 98/400\n",
      "34/34 [==============================] - 1s 25ms/step - loss: 0.3866 - accuracy: 0.8859 - val_loss: 1.5727 - val_accuracy: 0.4720\n",
      "Epoch 99/400\n",
      "34/34 [==============================] - 1s 25ms/step - loss: 0.3884 - accuracy: 0.8775 - val_loss: 1.5542 - val_accuracy: 0.4766\n",
      "Epoch 100/400\n",
      "34/34 [==============================] - 1s 25ms/step - loss: 0.3638 - accuracy: 0.8840 - val_loss: 1.5739 - val_accuracy: 0.4626\n",
      "Epoch 101/400\n",
      "34/34 [==============================] - 1s 24ms/step - loss: 0.3719 - accuracy: 0.8868 - val_loss: 1.5467 - val_accuracy: 0.4907\n",
      "Epoch 102/400\n",
      "34/34 [==============================] - 1s 25ms/step - loss: 0.4036 - accuracy: 0.8765 - val_loss: 1.5574 - val_accuracy: 0.4720\n",
      "Epoch 103/400\n",
      "34/34 [==============================] - 1s 25ms/step - loss: 0.3947 - accuracy: 0.8849 - val_loss: 1.5593 - val_accuracy: 0.4720\n",
      "Epoch 104/400\n",
      "34/34 [==============================] - 1s 24ms/step - loss: 0.4022 - accuracy: 0.8690 - val_loss: 1.5541 - val_accuracy: 0.4813\n",
      "Epoch 105/400\n",
      "34/34 [==============================] - 1s 24ms/step - loss: 0.3968 - accuracy: 0.8765 - val_loss: 1.5511 - val_accuracy: 0.4720\n",
      "Epoch 106/400\n",
      "34/34 [==============================] - 1s 24ms/step - loss: 0.3871 - accuracy: 0.8812 - val_loss: 1.5688 - val_accuracy: 0.4813\n",
      "Epoch 107/400\n",
      "34/34 [==============================] - 1s 24ms/step - loss: 0.3916 - accuracy: 0.8859 - val_loss: 1.5432 - val_accuracy: 0.4720\n",
      "Epoch 108/400\n",
      "34/34 [==============================] - 1s 24ms/step - loss: 0.3804 - accuracy: 0.8952 - val_loss: 1.5503 - val_accuracy: 0.4766\n",
      "Epoch 109/400\n",
      "34/34 [==============================] - 1s 25ms/step - loss: 0.3666 - accuracy: 0.8971 - val_loss: 1.5848 - val_accuracy: 0.4673\n",
      "Epoch 110/400\n",
      "34/34 [==============================] - 1s 24ms/step - loss: 0.3718 - accuracy: 0.8952 - val_loss: 1.5763 - val_accuracy: 0.4626\n",
      "Epoch 111/400\n",
      "34/34 [==============================] - 1s 24ms/step - loss: 0.3861 - accuracy: 0.8812 - val_loss: 1.5959 - val_accuracy: 0.4579\n",
      "Epoch 112/400\n",
      "34/34 [==============================] - 1s 24ms/step - loss: 0.3630 - accuracy: 0.8859 - val_loss: 1.6075 - val_accuracy: 0.4720\n",
      "Epoch 113/400\n",
      "34/34 [==============================] - 1s 24ms/step - loss: 0.3623 - accuracy: 0.8971 - val_loss: 1.5890 - val_accuracy: 0.4720\n",
      "Epoch 114/400\n",
      "34/34 [==============================] - 1s 24ms/step - loss: 0.3570 - accuracy: 0.8934 - val_loss: 1.6044 - val_accuracy: 0.4533\n",
      "Epoch 115/400\n"
     ]
    },
    {
     "name": "stdout",
     "output_type": "stream",
     "text": [
      "34/34 [==============================] - 1s 24ms/step - loss: 0.3778 - accuracy: 0.8868 - val_loss: 1.5893 - val_accuracy: 0.4579\n",
      "Epoch 116/400\n",
      "34/34 [==============================] - 1s 24ms/step - loss: 0.3837 - accuracy: 0.8934 - val_loss: 1.5691 - val_accuracy: 0.4766\n",
      "Epoch 117/400\n",
      "34/34 [==============================] - 1s 24ms/step - loss: 0.3680 - accuracy: 0.8821 - val_loss: 1.5961 - val_accuracy: 0.4720\n",
      "Epoch 118/400\n",
      "34/34 [==============================] - 1s 24ms/step - loss: 0.3518 - accuracy: 0.8952 - val_loss: 1.5808 - val_accuracy: 0.4720\n",
      "Epoch 119/400\n",
      "34/34 [==============================] - 1s 25ms/step - loss: 0.3893 - accuracy: 0.8784 - val_loss: 1.5720 - val_accuracy: 0.4673\n",
      "Epoch 120/400\n",
      "34/34 [==============================] - 1s 24ms/step - loss: 0.3521 - accuracy: 0.8990 - val_loss: 1.5886 - val_accuracy: 0.4626\n",
      "Epoch 121/400\n",
      "34/34 [==============================] - 1s 24ms/step - loss: 0.3361 - accuracy: 0.9130 - val_loss: 1.6133 - val_accuracy: 0.4626\n",
      "Epoch 122/400\n",
      "34/34 [==============================] - 1s 24ms/step - loss: 0.3606 - accuracy: 0.8962 - val_loss: 1.6167 - val_accuracy: 0.4533\n",
      "Epoch 123/400\n",
      "34/34 [==============================] - 1s 24ms/step - loss: 0.3525 - accuracy: 0.8980 - val_loss: 1.6167 - val_accuracy: 0.4626\n",
      "Epoch 124/400\n",
      "34/34 [==============================] - 1s 24ms/step - loss: 0.3648 - accuracy: 0.8943 - val_loss: 1.5839 - val_accuracy: 0.4673\n",
      "Epoch 125/400\n",
      "34/34 [==============================] - 1s 24ms/step - loss: 0.3783 - accuracy: 0.8812 - val_loss: 1.5903 - val_accuracy: 0.4626\n",
      "Epoch 126/400\n",
      "34/34 [==============================] - 1s 24ms/step - loss: 0.3585 - accuracy: 0.8859 - val_loss: 1.5702 - val_accuracy: 0.4626\n",
      "Epoch 127/400\n",
      "34/34 [==============================] - 1s 25ms/step - loss: 0.3701 - accuracy: 0.8887 - val_loss: 1.5666 - val_accuracy: 0.4626\n",
      "Epoch 128/400\n",
      "34/34 [==============================] - 1s 25ms/step - loss: 0.3792 - accuracy: 0.8915 - val_loss: 1.5317 - val_accuracy: 0.4907\n",
      "Epoch 129/400\n",
      "34/34 [==============================] - 1s 24ms/step - loss: 0.3786 - accuracy: 0.8831 - val_loss: 1.5643 - val_accuracy: 0.4720\n",
      "Epoch 130/400\n",
      "34/34 [==============================] - 1s 24ms/step - loss: 0.3919 - accuracy: 0.8737 - val_loss: 1.5475 - val_accuracy: 0.4813\n",
      "Epoch 131/400\n",
      "34/34 [==============================] - 1s 23ms/step - loss: 0.3502 - accuracy: 0.8999 - val_loss: 1.5410 - val_accuracy: 0.4860\n",
      "Epoch 132/400\n",
      "34/34 [==============================] - 1s 24ms/step - loss: 0.3637 - accuracy: 0.8952 - val_loss: 1.5547 - val_accuracy: 0.4953\n",
      "Epoch 133/400\n",
      "34/34 [==============================] - 1s 24ms/step - loss: 0.3780 - accuracy: 0.8812 - val_loss: 1.5589 - val_accuracy: 0.4860\n",
      "Epoch 134/400\n",
      "34/34 [==============================] - 1s 24ms/step - loss: 0.3818 - accuracy: 0.8812 - val_loss: 1.5663 - val_accuracy: 0.4860\n",
      "Epoch 135/400\n",
      "34/34 [==============================] - 1s 24ms/step - loss: 0.3815 - accuracy: 0.8840 - val_loss: 1.5625 - val_accuracy: 0.4813\n",
      "Epoch 136/400\n",
      "34/34 [==============================] - 1s 24ms/step - loss: 0.3598 - accuracy: 0.8952 - val_loss: 1.5688 - val_accuracy: 0.4953\n",
      "Epoch 137/400\n",
      "34/34 [==============================] - 1s 24ms/step - loss: 0.3614 - accuracy: 0.8952 - val_loss: 1.5660 - val_accuracy: 0.4907\n",
      "Epoch 138/400\n",
      "34/34 [==============================] - 1s 24ms/step - loss: 0.3642 - accuracy: 0.9008 - val_loss: 1.5735 - val_accuracy: 0.4813\n",
      "Epoch 139/400\n",
      "34/34 [==============================] - 1s 24ms/step - loss: 0.3609 - accuracy: 0.8943 - val_loss: 1.5512 - val_accuracy: 0.4860\n",
      "Epoch 140/400\n",
      "34/34 [==============================] - 1s 24ms/step - loss: 0.3492 - accuracy: 0.8943 - val_loss: 1.5480 - val_accuracy: 0.4860\n",
      "Epoch 141/400\n",
      "34/34 [==============================] - 1s 24ms/step - loss: 0.3590 - accuracy: 0.8906 - val_loss: 1.5449 - val_accuracy: 0.4907\n",
      "Epoch 142/400\n",
      "34/34 [==============================] - 1s 23ms/step - loss: 0.3567 - accuracy: 0.9008 - val_loss: 1.5641 - val_accuracy: 0.4953\n",
      "Epoch 143/400\n",
      "34/34 [==============================] - 1s 25ms/step - loss: 0.3531 - accuracy: 0.8952 - val_loss: 1.5547 - val_accuracy: 0.4907\n",
      "Epoch 144/400\n",
      "34/34 [==============================] - 1s 24ms/step - loss: 0.3438 - accuracy: 0.9055 - val_loss: 1.5724 - val_accuracy: 0.4953\n",
      "Epoch 145/400\n",
      "34/34 [==============================] - 1s 24ms/step - loss: 0.3660 - accuracy: 0.8896 - val_loss: 1.5736 - val_accuracy: 0.4813\n",
      "Epoch 146/400\n",
      "34/34 [==============================] - 1s 24ms/step - loss: 0.3439 - accuracy: 0.9018 - val_loss: 1.5963 - val_accuracy: 0.4813\n",
      "Epoch 147/400\n",
      "34/34 [==============================] - 1s 24ms/step - loss: 0.3543 - accuracy: 0.8990 - val_loss: 1.5981 - val_accuracy: 0.4720\n",
      "Epoch 148/400\n",
      "34/34 [==============================] - 1s 24ms/step - loss: 0.3728 - accuracy: 0.8906 - val_loss: 1.5664 - val_accuracy: 0.4813\n",
      "Epoch 149/400\n",
      "34/34 [==============================] - 1s 24ms/step - loss: 0.3557 - accuracy: 0.8999 - val_loss: 1.5612 - val_accuracy: 0.4860\n",
      "Epoch 150/400\n",
      "34/34 [==============================] - 1s 24ms/step - loss: 0.3334 - accuracy: 0.8934 - val_loss: 1.5482 - val_accuracy: 0.4766\n",
      "Epoch 151/400\n",
      "34/34 [==============================] - 1s 24ms/step - loss: 0.3634 - accuracy: 0.8943 - val_loss: 1.5551 - val_accuracy: 0.4860\n",
      "Epoch 152/400\n",
      "34/34 [==============================] - 1s 24ms/step - loss: 0.3391 - accuracy: 0.9018 - val_loss: 1.5357 - val_accuracy: 0.5000\n",
      "Epoch 153/400\n",
      "34/34 [==============================] - 1s 25ms/step - loss: 0.3545 - accuracy: 0.8906 - val_loss: 1.5412 - val_accuracy: 0.4953\n",
      "Epoch 154/400\n",
      "34/34 [==============================] - 1s 24ms/step - loss: 0.3343 - accuracy: 0.9046 - val_loss: 1.5684 - val_accuracy: 0.4860\n",
      "Epoch 155/400\n",
      "34/34 [==============================] - 1s 24ms/step - loss: 0.3565 - accuracy: 0.8924 - val_loss: 1.5883 - val_accuracy: 0.4813\n",
      "Epoch 156/400\n",
      "34/34 [==============================] - 1s 24ms/step - loss: 0.3490 - accuracy: 0.9027 - val_loss: 1.5778 - val_accuracy: 0.4766\n",
      "Epoch 157/400\n",
      "34/34 [==============================] - 1s 24ms/step - loss: 0.3184 - accuracy: 0.9046 - val_loss: 1.5967 - val_accuracy: 0.4813\n",
      "Epoch 158/400\n",
      "34/34 [==============================] - 1s 24ms/step - loss: 0.3174 - accuracy: 0.9242 - val_loss: 1.6004 - val_accuracy: 0.4813\n",
      "Epoch 159/400\n",
      "34/34 [==============================] - 1s 23ms/step - loss: 0.3646 - accuracy: 0.8877 - val_loss: 1.6042 - val_accuracy: 0.4720\n",
      "Epoch 160/400\n",
      "34/34 [==============================] - 1s 24ms/step - loss: 0.3476 - accuracy: 0.8980 - val_loss: 1.5980 - val_accuracy: 0.4766\n",
      "Epoch 161/400\n",
      "34/34 [==============================] - 1s 24ms/step - loss: 0.3374 - accuracy: 0.9018 - val_loss: 1.5894 - val_accuracy: 0.4720\n",
      "Epoch 162/400\n",
      "34/34 [==============================] - 1s 24ms/step - loss: 0.3249 - accuracy: 0.9055 - val_loss: 1.6100 - val_accuracy: 0.4626\n",
      "Epoch 163/400\n",
      "34/34 [==============================] - 1s 24ms/step - loss: 0.3175 - accuracy: 0.9139 - val_loss: 1.6113 - val_accuracy: 0.4813\n",
      "Epoch 164/400\n",
      "34/34 [==============================] - 1s 24ms/step - loss: 0.3317 - accuracy: 0.9093 - val_loss: 1.6170 - val_accuracy: 0.4813\n",
      "Epoch 165/400\n",
      "34/34 [==============================] - 1s 25ms/step - loss: 0.3332 - accuracy: 0.9055 - val_loss: 1.5895 - val_accuracy: 0.4860\n",
      "Epoch 166/400\n",
      "34/34 [==============================] - 1s 24ms/step - loss: 0.3072 - accuracy: 0.9186 - val_loss: 1.5859 - val_accuracy: 0.4860\n",
      "Epoch 167/400\n",
      "34/34 [==============================] - 1s 24ms/step - loss: 0.3380 - accuracy: 0.8971 - val_loss: 1.5641 - val_accuracy: 0.4813\n",
      "Epoch 168/400\n",
      "34/34 [==============================] - 1s 24ms/step - loss: 0.3372 - accuracy: 0.8990 - val_loss: 1.5740 - val_accuracy: 0.4813\n",
      "Epoch 169/400\n",
      "34/34 [==============================] - 1s 24ms/step - loss: 0.3438 - accuracy: 0.8999 - val_loss: 1.5858 - val_accuracy: 0.4813\n",
      "Epoch 170/400\n",
      "34/34 [==============================] - 1s 24ms/step - loss: 0.3178 - accuracy: 0.9130 - val_loss: 1.6230 - val_accuracy: 0.4673\n",
      "Epoch 171/400\n",
      " 4/34 [==>...........................] - ETA: 0s - loss: 0.3274 - accuracy: 0.8828"
     ]
    }
   ],
   "source": [
    "cnn_results = CNN_model.fit(x_train, y_train_lb,\n",
    "              batch_size = 32,\n",
    "              epochs = 400,\n",
    "              verbose = 1,\n",
    "              validation_data = (x_test, y_test_lb))"
   ]
  },
  {
   "cell_type": "code",
   "execution_count": 48,
   "id": "1afb7aa2",
   "metadata": {},
   "outputs": [
    {
     "data": {
      "image/png": "[encoded data removed]",
      "text/plain": [
       "<Figure size 640x480 with 1 Axes>"
      ]
     },
     "metadata": {},
     "output_type": "display_data"
    },
    {
     "data": {
      "image/png": "[encoded data removed]",
      "text/plain": [
       "<Figure size 640x480 with 1 Axes>"
      ]
     },
     "metadata": {},
     "output_type": "display_data"
    }
   ],
   "source": [
    "from matplotlib import pyplot as plt\n",
    "# Accuracy\n",
    "# epochs = range(1, len(acc) + 1)\n",
    "plt.plot(cnn_results.history['accuracy'])\n",
    "plt.plot(cnn_results.history['val_accuracy'])\n",
    "plt.title('model accuracy')\n",
    "plt.ylabel('accuracy')\n",
    "plt.xlabel('epoch')\n",
    "plt.legend(['train', 'test'], loc='upper left')\n",
    "plt.show()\n",
    "\n",
    "# LOSS\n",
    "plt.plot(cnn_results.history['loss'])\n",
    "plt.plot(cnn_results.history['val_loss'])\n",
    "plt.title('model loss')\n",
    "plt.ylabel('loss')\n",
    "plt.xlabel('epoch')\n",
    "plt.legend(['train', 'test'], loc='upper left')\n",
    "plt.show()"
   ]
  },
  {
   "cell_type": "code",
   "execution_count": 31,
   "id": "655c3a7b",
   "metadata": {},
   "outputs": [],
   "source": [
    "CNN_model.save('cnn_model_audio-4(acc=89.5,val=52).h5')"
   ]
  },
  {
   "cell_type": "markdown",
   "id": "e8b81a84",
   "metadata": {},
   "source": [
    "# SVM"
   ]
  },
  {
   "cell_type": "code",
   "execution_count": 258,
   "id": "e821daa5",
   "metadata": {},
   "outputs": [],
   "source": [
    "from sklearn import svm"
   ]
  },
  {
   "cell_type": "code",
   "execution_count": 295,
   "id": "0fda2404",
   "metadata": {},
   "outputs": [
    {
     "name": "stdout",
     "output_type": "stream",
     "text": [
      "x_train shape: (1069, 180)\n",
      "y_train shape: (1069,)\n",
      "x_test shape: (214, 180)\n",
      "y_test shape: (214,)\n"
     ]
    }
   ],
   "source": [
    "lb1 = LabelEncoder()\n",
    "\n",
    "#Encode emotion labels into numbers\n",
    "# print(lb.fit_transform(y_train))\n",
    "y_train_lb1 =lb1.fit_transform(y_train)\n",
    "y_test_lb1 = lb1.fit_transform(y_test)\n",
    "\n",
    "# Check out the data\n",
    "print(f'x_train shape: {x_train.shape}')\n",
    "print(f'y_train shape: {y_train_lb1.shape}')\n",
    "print(f'x_test shape: {x_test.shape}')\n",
    "print(f'y_test shape: {y_test_lb1.shape}')"
   ]
  },
  {
   "cell_type": "code",
   "execution_count": 293,
   "id": "22b12cef",
   "metadata": {},
   "outputs": [
    {
     "name": "stdout",
     "output_type": "stream",
     "text": [
      "Train Accuracy: 72.50%\n",
      "Test Accuracy: 33.18%\n"
     ]
    }
   ],
   "source": [
    "svm_classifier1 = svm.SVC(kernel='linear')  # You can use 'rbf' or other kernels as well\n",
    "\n",
    "# Train the SVM classifier\n",
    "# y_train_lb1=y_train_lb.reshape(-1)\n",
    "# print(y_train_lb1)\n",
    "svm_classifier1.fit(x_train, y_train_lb1)\n",
    "\n",
    "# Make predictions on the test set\n",
    "y_pred1 = svm_classifier1.predict(x_train)\n",
    "\n",
    "# Evaluate the accuracy\n",
    "accuracy1 = accuracy_score(y_train_lb1, y_pred1)\n",
    "print(f\"Train Accuracy: {accuracy1 * 100:.2f}%\")\n",
    "\n",
    "# Make predictions on the test set\n",
    "y_pred2 = svm_classifier1.predict(x_test)\n",
    "\n",
    "# Evaluate the accuracy\n",
    "accuracy2 = accuracy_score(y_test_lb1, y_pred2)\n",
    "print(f\"Test Accuracy: {accuracy2 * 100:.2f}%\")"
   ]
  },
  {
   "cell_type": "code",
   "execution_count": 294,
   "id": "34011835",
   "metadata": {},
   "outputs": [
    {
     "name": "stdout",
     "output_type": "stream",
     "text": [
      "Train Accuracy: 77.17%\n",
      "Test Accuracy: 35.51%\n"
     ]
    }
   ],
   "source": [
    "svm_classifier2 = svm.SVC(kernel='linear')\n",
    "svm_classifier2.fit(x_train_scaled, y_train_lb1)\n",
    "\n",
    "# Make predictions on the test set\n",
    "y_pred1 = svm_classifier2.predict(x_train_scaled)\n",
    "\n",
    "# Evaluate the accuracy\n",
    "accuracy1 = accuracy_score(y_train_lb1, y_pred1)\n",
    "print(f\"Train Accuracy: {accuracy1 * 100:.2f}%\")\n",
    "\n",
    "# Make predictions on the test set\n",
    "y_pred2 = svm_classifier2.predict(x_test_scaled)\n",
    "\n",
    "# Evaluate the accuracy\n",
    "accuracy2 = accuracy_score(y_test_lb1, y_pred2)\n",
    "print(f\"Test Accuracy: {accuracy2 * 100:.2f}%\")"
   ]
  },
  {
   "cell_type": "code",
   "execution_count": null,
   "id": "1acecbdb",
   "metadata": {},
   "outputs": [],
   "source": []
  }
 ],
 "metadata": {
  "kernelspec": {
   "display_name": "tfod1",
   "language": "python",
   "name": "tfod1"
  },
  "language_info": {
   "codemirror_mode": {
    "name": "ipython",
    "version": 3
   },
   "file_extension": ".py",
   "mimetype": "text/x-python",
   "name": "python",
   "nbconvert_exporter": "python",
   "pygments_lexer": "ipython3",
   "version": "3.9.18"
  }
 },
 "nbformat": 4,
 "nbformat_minor": 5
}
